{
 "cells": [
  {
   "cell_type": "code",
   "execution_count": 1,
   "metadata": {
    "scrolled": false
   },
   "outputs": [
    {
     "name": "stdout",
     "output_type": "stream",
     "text": [
      "page  0 , count:  15\n",
      "page  1 , count:  20\n",
      "page  2 , count:  20\n",
      "page  3 , count:  20\n",
      "page  4 , count:  20\n",
      "page  5 , count:  10\n",
      "page  6 , count:  20\n",
      "page  7 , count:  20\n",
      "page  8 , count:  20\n",
      "page  9 , count:  20\n",
      "page  10 , count:  20\n",
      "page  11 , count:  20\n",
      "page  12 , count:  20\n",
      "page  13 , count:  20\n",
      "page  14 , count:  20\n",
      "page  15 , count:  20\n",
      "page  16 , count:  20\n",
      "page  17 , count:  20\n",
      "page  18 , count:  20\n",
      "page  19 , count:  20\n",
      "page  20 , count:  20\n",
      "page  21 , count:  20\n",
      "page  22 , count:  20\n",
      "page  23 , count:  20\n",
      "page  24 , count:  20\n",
      "page  25 , count:  20\n",
      "page  26 , count:  20\n",
      "page  27 , count:  20\n",
      "page  28 , count:  20\n",
      "page  29 , count:  20\n",
      "page  30 , count:  20\n",
      "page  31 , count:  20\n",
      "page  32 , count:  20\n",
      "page  33 , count:  7\n",
      "page  34 , count:  0\n"
     ]
    }
   ],
   "source": [
    "from bs4 import BeautifulSoup as soup\n",
    "import pandas as pd\n",
    "\n",
    "import requests\n",
    "import time\n",
    "import random\n",
    "\n",
    "def wait ():    \n",
    "    time.sleep(0.5+(random.randrange(0, 10)*0.05))\n",
    "    \n",
    "url = \"https://nn.hh.ru/search/vacancy\"\n",
    "\n",
    "headers = {\n",
    "    \"User-Agent\": \"Mozilla/5.0 (Windows NT 6.1; Win64; x64; rv:91.0) Gecko/20100101 Firefox/91.0\",\n",
    "    \"Accept\": \"*/*\",\n",
    "    \"Accept-Language\": \"ru-RU,ru;q=0.8,en-US;q=0.5,en;q=0.3\",\n",
    "    \"Connection\": \"keep-alive\"\n",
    "}\n",
    "\n",
    "params = {\n",
    "    \"clusters\": False,\n",
    "    \"ored_clusters\": False,\n",
    "    \"enable_snippets\": False,\n",
    "    \"salary\": None,\n",
    "    \"st\": \"searchVacancy\",\n",
    "    \"text\": \"golang\",\n",
    "    \"page\": 0\n",
    "}\n",
    "\n",
    "vacancys_data = []\n",
    "vacancys_on_page = True \n",
    "\n",
    "while vacancys_on_page:\n",
    "    \n",
    "    response = requests.get(url, headers = headers, params = params)\n",
    "    response_parsed = soup(response.text, 'html.parser')\n",
    "    \n",
    "    # ищем блоки с вакансиями и выдергиваем url\n",
    "    vacancys_on_page = response_parsed.select(\"div[class=vacancy-serp-item]\")  \n",
    "    vacancys_on_page = (vacancys_on_page if len(vacancys_on_page or [])>0 else False)\n",
    "    \n",
    "    # если нашли вакансии - составляем под них структуры с данными\n",
    "    if vacancys_on_page:\n",
    "        for vacancy_block in vacancys_on_page:\n",
    "            link_container = vacancy_block.select(\"a[class='bloko-link']\")\n",
    "            vacancys_data.append({\"url\": link_container[0]['href']})\n",
    "    \n",
    "    print(\"page \", params['page'], \", count: \", len(vacancys_on_page or []) )    \n",
    "    params['page'] += 1\n",
    "    \n",
    "    # симулируем\n",
    "    wait()"
   ]
  },
  {
   "cell_type": "code",
   "execution_count": 1,
   "metadata": {},
   "outputs": [
    {
     "ename": "NameError",
     "evalue": "name 'vacancys_data' is not defined",
     "output_type": "error",
     "traceback": [
      "\u001b[1;31m---------------------------------------------------------------------------\u001b[0m",
      "\u001b[1;31mNameError\u001b[0m                                 Traceback (most recent call last)",
      "\u001b[1;32m<ipython-input-1-a3dc971563cb>\u001b[0m in \u001b[0;36m<module>\u001b[1;34m\u001b[0m\n\u001b[0;32m      1\u001b[0m \u001b[1;31m# разбираем страницу вакансии\u001b[0m\u001b[1;33m\u001b[0m\u001b[1;33m\u001b[0m\u001b[1;33m\u001b[0m\u001b[0m\n\u001b[1;32m----> 2\u001b[1;33m \u001b[1;32mfor\u001b[0m \u001b[0mdata\u001b[0m \u001b[1;32min\u001b[0m \u001b[0mvacancys_data\u001b[0m\u001b[1;33m:\u001b[0m\u001b[1;33m\u001b[0m\u001b[1;33m\u001b[0m\u001b[0m\n\u001b[0m\u001b[0;32m      3\u001b[0m \u001b[1;33m\u001b[0m\u001b[0m\n\u001b[0;32m      4\u001b[0m     \u001b[0mresponse\u001b[0m \u001b[1;33m=\u001b[0m \u001b[0mrequests\u001b[0m\u001b[1;33m.\u001b[0m\u001b[0mget\u001b[0m\u001b[1;33m(\u001b[0m\u001b[0mdata\u001b[0m\u001b[1;33m[\u001b[0m\u001b[1;34m'url'\u001b[0m\u001b[1;33m]\u001b[0m\u001b[1;33m,\u001b[0m \u001b[0mheaders\u001b[0m \u001b[1;33m=\u001b[0m \u001b[0mheaders\u001b[0m\u001b[1;33m)\u001b[0m\u001b[1;33m\u001b[0m\u001b[1;33m\u001b[0m\u001b[0m\n\u001b[0;32m      5\u001b[0m     \u001b[0mresponse_parsed\u001b[0m \u001b[1;33m=\u001b[0m \u001b[0msoup\u001b[0m\u001b[1;33m(\u001b[0m\u001b[0mresponse\u001b[0m\u001b[1;33m.\u001b[0m\u001b[0mtext\u001b[0m\u001b[1;33m,\u001b[0m \u001b[1;34m'html.parser'\u001b[0m\u001b[1;33m)\u001b[0m\u001b[1;33m\u001b[0m\u001b[1;33m\u001b[0m\u001b[0m\n",
      "\u001b[1;31mNameError\u001b[0m: name 'vacancys_data' is not defined"
     ]
    }
   ],
   "source": [
    "# разбираем страницу вакансии\n",
    "for data in vacancys_data:\n",
    "    \n",
    "    response = requests.get(data['url'], headers = headers)\n",
    "    response_parsed = soup(response.text, 'html.parser')    \n",
    "   \n",
    "    # вытаскиваем заголовок\n",
    "    \n",
    "    title = response_parsed.select(\"h1['data-qa' = 'vacancy-title']['class' = 'bloko-header-1']\")\n",
    "    title = title[0] or False     \n",
    "    \n",
    "    if title:\n",
    "        for span in title.select(\"span\"):\n",
    "            if \"title\" in data: \n",
    "                data[\"title\"] = str(data[\"title\"])+\" \"+str(span['text'])\n",
    "            else:\n",
    "                data[\"title\"] = str(span['text']) \n",
    "                        \n",
    "    # зарплата бля (\n",
    "    \n",
    "    salary_span = response_parsed.select(\"span[data-qa = 'bloko-header-2'][class = 'bloko-header-2 bloko-header-2_lite']\")\n",
    "    salary_span = salary_span[0] or False\n",
    "    \n",
    "    data[\"salary\"] = str(salary_span['text'])    \n",
    "        \n",
    "    # симулируем\n",
    "    wait()    \n",
    "\n",
    "        \n",
    "print(data)\n"
   ]
  },
  {
   "cell_type": "code",
   "execution_count": 38,
   "metadata": {},
   "outputs": [
    {
     "ename": "AttributeError",
     "evalue": "'WebDriver' object has no attribute 'getPageSource'",
     "output_type": "error",
     "traceback": [
      "\u001b[1;31m---------------------------------------------------------------------------\u001b[0m",
      "\u001b[1;31mAttributeError\u001b[0m                            Traceback (most recent call last)",
      "\u001b[1;32m<ipython-input-38-2e91be6727d4>\u001b[0m in \u001b[0;36m<module>\u001b[1;34m\u001b[0m\n\u001b[0;32m      5\u001b[0m \u001b[0mdriver\u001b[0m\u001b[1;33m.\u001b[0m\u001b[0mget\u001b[0m\u001b[1;33m(\u001b[0m\u001b[1;34m\"http://www.python.org\"\u001b[0m\u001b[1;33m)\u001b[0m\u001b[1;33m\u001b[0m\u001b[1;33m\u001b[0m\u001b[0m\n\u001b[0;32m      6\u001b[0m \u001b[1;33m\u001b[0m\u001b[0m\n\u001b[1;32m----> 7\u001b[1;33m \u001b[0mprint\u001b[0m\u001b[1;33m(\u001b[0m\u001b[0mdriver\u001b[0m\u001b[1;33m.\u001b[0m\u001b[0mgetPageSource\u001b[0m\u001b[1;33m(\u001b[0m\u001b[1;33m)\u001b[0m\u001b[1;33m)\u001b[0m\u001b[1;33m\u001b[0m\u001b[1;33m\u001b[0m\u001b[0m\n\u001b[0m",
      "\u001b[1;31mAttributeError\u001b[0m: 'WebDriver' object has no attribute 'getPageSource'"
     ]
    }
   ],
   "source": [
    "\n"
   ]
  },
  {
   "cell_type": "code",
   "execution_count": 31,
   "metadata": {},
   "outputs": [
    {
     "data": {
      "text/plain": [
       "'C:\\\\Users\\\\Maksim\\\\Anaconda3'"
      ]
     },
     "execution_count": 31,
     "metadata": {},
     "output_type": "execute_result"
    }
   ],
   "source": []
  },
  {
   "cell_type": "code",
   "execution_count": null,
   "metadata": {},
   "outputs": [],
   "source": []
  },
  {
   "cell_type": "code",
   "execution_count": null,
   "metadata": {},
   "outputs": [],
   "source": []
  }
 ],
 "metadata": {
  "kernelspec": {
   "display_name": "Python 3",
   "language": "python",
   "name": "python3"
  },
  "language_info": {
   "codemirror_mode": {
    "name": "ipython",
    "version": 3
   },
   "file_extension": ".py",
   "mimetype": "text/x-python",
   "name": "python",
   "nbconvert_exporter": "python",
   "pygments_lexer": "ipython3",
   "version": "3.7.1"
  }
 },
 "nbformat": 4,
 "nbformat_minor": 2
}
